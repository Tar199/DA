{
  "cells": [
    {
      "cell_type": "code",
      "source": [
        "import pandas as pd\n",
        "import numpy as np\n",
        "from sklearn.model_selection import train_test_split\n",
        "from sklearn.preprocessing import StandardScaler, OneHotEncoder\n",
        "from sklearn.compose import ColumnTransformer\n",
        "from sklearn.pipeline import Pipeline\n",
        "from sklearn.impute import SimpleImputer\n",
        "from sklearn.ensemble import RandomForestClassifier\n",
        "from sklearn.multioutput import MultiOutputClassifier\n",
        "from sklearn.metrics import roc_auc_score\n",
        "\n",
        "# Load the data\n",
        "train_features = pd.read_csv('/content/drive/MyDrive/Colab Notebooks/training_set_features.csv')\n",
        "train_labels = pd.read_csv('/content/drive/MyDrive/Colab Notebooks/training_set_labels.csv')\n",
        "test_features = pd.read_csv('/content/drive/MyDrive/Colab Notebooks/test_set_features.csv')\n",
        "\n",
        "# Merge the features and labels\n",
        "train_data = pd.merge(train_features, train_labels, on='respondent_id')\n",
        "\n",
        "# Drop the 'respondent_id' as it's not a feature\n",
        "X = train_data.drop(columns=['respondent_id', 'xyz_vaccine', 'seasonal_vaccine'])\n",
        "y = train_data[['xyz_vaccine', 'seasonal_vaccine']]\n",
        "test_data = test_features.drop(columns=['respondent_id'])\n",
        "\n",
        "# Identify categorical and numerical columns\n",
        "categorical_cols = X.select_dtypes(include=['object']).columns\n",
        "numerical_cols = X.select_dtypes(include=['int64', 'float64']).columns\n",
        "\n",
        "# Preprocessing for numerical data\n",
        "numerical_transformer = Pipeline(steps=[\n",
        "    ('imputer', SimpleImputer(strategy='median')),\n",
        "    ('scaler', StandardScaler())])\n",
        "\n",
        "# Preprocessing for categorical data\n",
        "categorical_transformer = Pipeline(steps=[\n",
        "    ('imputer', SimpleImputer(strategy='most_frequent')),\n",
        "    ('onehot', OneHotEncoder(handle_unknown='ignore'))])\n",
        "\n",
        "# Bundle preprocessing for numerical and categorical data\n",
        "preprocessor = ColumnTransformer(\n",
        "    transformers=[\n",
        "        ('num', numerical_transformer, numerical_cols),\n",
        "        ('cat', categorical_transformer, categorical_cols)])\n",
        "\n",
        "# Define the model\n",
        "model = MultiOutputClassifier(RandomForestClassifier(n_estimators=100, random_state=42))\n",
        "\n",
        "# Create and evaluate the pipeline\n",
        "clf = Pipeline(steps=[('preprocessor', preprocessor),\n",
        "                      ('classifier', model)])\n",
        "\n",
        "# Split the data\n",
        "X_train, X_valid, y_train, y_valid = train_test_split(X, y, test_size=0.2, random_state=42)\n",
        "\n",
        "# Train the model\n",
        "clf.fit(X_train, y_train)\n",
        "\n",
        "# Predict on the validation set\n",
        "y_pred_valid = clf.predict_proba(X_valid)\n",
        "y_pred_valid = np.hstack([y_pred_valid[0][:, 1].reshape(-1, 1), y_pred_valid[1][:, 1].reshape(-1, 1)])\n",
        "\n",
        "# Evaluate the model\n",
        "roc_auc = roc_auc_score(y_valid, y_pred_valid, average='macro')\n",
        "print(f'Validation ROC AUC Score: {roc_auc}')\n",
        "\n",
        "# Predict on the test set\n",
        "y_pred_test = clf.predict_proba(test_data)\n",
        "y_pred_test = np.hstack([y_pred_test[0][:, 1].reshape(-1, 1), y_pred_test[1][:, 1].reshape(-1, 1)])\n",
        "\n",
        "# Prepare the submission file\n",
        "submission = pd.DataFrame({\n",
        "    'respondent_id': test_features['respondent_id'],\n",
        "    'xyz_vaccine': y_pred_test[:, 0],\n",
        "    'seasonal_vaccine': y_pred_test[:, 1]\n",
        "})\n",
        "\n",
        "# Save the submission file\n",
        "submission.to_csv('/content/drive/MyDrive/Colab Notebooks/submission.csv', index=False)\n",
        "print(\"Submission file saved successfully.\")\n"
      ],
      "metadata": {
        "colab": {
          "base_uri": "https://localhost:8080/"
        },
        "id": "gIUBojL0GCBh",
        "outputId": "468accd2-e16a-4506-ed14-a28e6a84bb51"
      },
      "execution_count": 58,
      "outputs": [
        {
          "output_type": "stream",
          "name": "stdout",
          "text": [
            "Validation ROC AUC Score: 0.8406199199127561\n",
            "Submission file saved successfully.\n"
          ]
        }
      ]
    },
    {
      "cell_type": "code",
      "execution_count": null,
      "metadata": {
        "id": "uZFJehiz9Nuz"
      },
      "outputs": [],
      "source": []
    }
  ],
  "metadata": {
    "kernelspec": {
      "display_name": "Python 3",
      "language": "python",
      "name": "python3"
    },
    "language_info": {
      "codemirror_mode": {
        "name": "ipython",
        "version": 3
      },
      "file_extension": ".py",
      "mimetype": "text/x-python",
      "name": "python",
      "nbconvert_exporter": "python",
      "pygments_lexer": "ipython3",
      "version": "3.8.10"
    },
    "colab": {
      "provenance": []
    }
  },
  "nbformat": 4,
  "nbformat_minor": 0
}